{
 "cells": [
  {
   "cell_type": "markdown",
   "metadata": {},
   "source": [
    "# 2.1. Problem Statement:  PYTHON 1"
   ]
  },
  {
   "cell_type": "code",
   "execution_count": 1,
   "metadata": {},
   "outputs": [
    {
     "name": "stdout",
     "output_type": "stream",
     "text": [
      "Hello World\n"
     ]
    }
   ],
   "source": [
    "## 1. Install Jupyter notebook and run the first program and share the screenshot of the output.\n",
    "\n",
    "print(\"Hello World\")"
   ]
  },
  {
   "cell_type": "code",
   "execution_count": 95,
   "metadata": {},
   "outputs": [
    {
     "name": "stdout",
     "output_type": "stream",
     "text": [
      "[2001, 2008, 2015, 2022, 2036, 2043, 2050, 2057, 2071, 2078, 2085, 2092, 2106, 2113, 2120, 2127, 2141, 2148, 2155, 2162, 2176, 2183, 2190, 2197, 2211, 2218, 2225, 2232, 2246, 2253, 2260, 2267, 2281, 2288, 2295, 2302, 2316, 2323, 2330, 2337, 2351, 2358, 2365, 2372, 2386, 2393, 2400, 2407, 2421, 2428, 2435, 2442, 2456, 2463, 2470, 2477, 2491, 2498, 2505, 2512, 2526, 2533, 2540, 2547, 2561, 2568, 2575, 2582, 2596, 2603, 2610, 2617, 2631, 2638, 2645, 2652, 2666, 2673, 2680, 2687, 2701, 2708, 2715, 2722, 2736, 2743, 2750, 2757, 2771, 2778, 2785, 2792, 2806, 2813, 2820, 2827, 2841, 2848, 2855, 2862, 2876, 2883, 2890, 2897, 2911, 2918, 2925, 2932, 2946, 2953, 2960, 2967, 2981, 2988, 2995, 3002, 3016, 3023, 3030, 3037, 3051, 3058, 3065, 3072, 3086, 3093, 3100, 3107, 3121, 3128, 3135, 3142, 3156, 3163, 3170, 3177, 3191, 3198]\n"
     ]
    }
   ],
   "source": [
    "## 2.  Program which will find all such numbers which are divisible by 7 but are not a\n",
    "##  multiple of 5, between 2000 and 3200 (both included). The numbers obtained should be printed\n",
    "##  in a comma-separated sequence on a single line.\n",
    "num_list = []\n",
    "for i in range(2000,3200):\n",
    "    if (i+1)%7==0 and (i+1)%5 != 0:\n",
    "        num_list.append(i)      \n",
    "print(num_list)"
   ]
  },
  {
   "cell_type": "code",
   "execution_count": 67,
   "metadata": {},
   "outputs": [
    {
     "name": "stdout",
     "output_type": "stream",
     "text": [
      "Enter First Name:Sailusha\n",
      "Enter Last Name:Pobba\n",
      "abboP ahsuliaS\n",
      "ahsuliaS abboP\n"
     ]
    }
   ],
   "source": [
    "## 3. Python program to accept the user's first and last name and then getting them\n",
    "## printed in the the reverse order with a space between first name and last name.\n",
    "First_Name = input(\"Enter First Name:\")\n",
    "Last_Name = input(\"Enter Last Name:\")\n",
    "print(First_Name[::-1],Last_Name[::-1])"
   ]
  },
  {
   "cell_type": "code",
   "execution_count": 158,
   "metadata": {},
   "outputs": [
    {
     "name": "stdout",
     "output_type": "stream",
     "text": [
      "Volume of Sphere with diameter 12 cms is 904.3199999999999 cms\n"
     ]
    }
   ],
   "source": [
    "## 4. Python program to find the volume of a sphere with diameter 12 cm\n",
    "d = 12\n",
    "pi = 3.14\n",
    "#volume of sphere = 4/3pir^3\n",
    "print(\"Volume of Sphere with diameter\", d,\"cms is\" , (4/3) * pi * (d/2)**3,\"cms\")\n"
   ]
  },
  {
   "cell_type": "markdown",
   "metadata": {},
   "source": [
    "# 2.2. Problem Statement:  PYTHON 2"
   ]
  },
  {
   "cell_type": "code",
   "execution_count": 78,
   "metadata": {},
   "outputs": [
    {
     "name": "stdout",
     "output_type": "stream",
     "text": [
      "Enter sequence of numbers with comma separator:23,5,14,1,2,5,8\n",
      "[23, 5, 14, 1, 2, 5, 8]\n"
     ]
    }
   ],
   "source": [
    "## 1.Program which accepts a sequence of comma-separated numbers from console and\n",
    "## generates a list\n",
    "input_numbers = input(\"Enter sequence of numbers with comma separator:\")\n",
    "str_list = input_numbers.split(\",\") \n",
    "num_list =[]\n",
    "for i in str_list:\n",
    "    num_list.append(int(i)) \n",
    "print(num_list)   "
   ]
  },
  {
   "cell_type": "code",
   "execution_count": 11,
   "metadata": {},
   "outputs": [
    {
     "name": "stdout",
     "output_type": "stream",
     "text": [
      "Enter range:5\n",
      "*\n",
      "**\n",
      "***\n",
      "****\n",
      "*****\n",
      "****\n",
      "***\n",
      "**\n",
      "*\n"
     ]
    }
   ],
   "source": [
    "## 2.  pattern using nested for loop in Python\n",
    "\n",
    "k = ''\n",
    "n = int(input(\"Enter range:\"))\n",
    "\n",
    "for i in range(n):\n",
    "        k += '*'\n",
    "        print(k)\n",
    "        if i == n-1:\n",
    "            for j in range(i,0,-1):\n",
    "                k = k[:-1]\n",
    "                print(k)   "
   ]
  },
  {
   "cell_type": "code",
   "execution_count": 2,
   "metadata": {},
   "outputs": [
    {
     "name": "stdout",
     "output_type": "stream",
     "text": [
      "Enter a string:Acadgild\n",
      "dligdacA\n"
     ]
    }
   ],
   "source": [
    "# 3. Python program to reverse a word after accepting the input from the user\n",
    "\n",
    "String = input(\"Enter a string:\")\n",
    "print(String[::-1])"
   ]
  },
  {
   "cell_type": "code",
   "execution_count": 93,
   "metadata": {},
   "outputs": [
    {
     "name": "stdout",
     "output_type": "stream",
     "text": [
      "WE, THE PEOPLE OF INDIA,\n",
      "      having solemnly resolved to constitute India into a SOVEREIGN,!\n",
      " \t    SOCIALIST, SECULAR, DEMOCRATIC\n",
      "\t     REPUBLIC and to secure to all its citizens\n"
     ]
    }
   ],
   "source": [
    "# 4. Write a Python Program to print the given string in the format specified in the sample output. \n",
    " \n",
    "# WE, THE PEOPLE OF INDIA, having solemnly resolved to constitute India into a SOVEREIGN, SOCIALIST, SECULAR, DEMOCRATIC REPUBLIC and to secure to all its citizens \n",
    "s = ' '\n",
    "print(\"WE, THE PEOPLE OF INDIA,\\n\",s*4 ,\"having solemnly resolved to constitute India into a SOVEREIGN,!\\n \\t\",s*2,\"SOCIALIST, SECULAR, DEMOCRATIC\\n\\t\",s*3,\"REPUBLIC and to secure to all its citizens\") "
   ]
  },
  {
   "cell_type": "markdown",
   "metadata": {},
   "source": [
    "# 2.3. Problem Statement:  PYTHON 3 "
   ]
  },
  {
   "cell_type": "code",
   "execution_count": 96,
   "metadata": {},
   "outputs": [
    {
     "data": {
      "text/plain": [
       "15"
      ]
     },
     "execution_count": 96,
     "metadata": {},
     "output_type": "execute_result"
    }
   ],
   "source": [
    "# 1.1 Python Program to implement your own myreduce() function which works exactly like Python's built-in function reduce() \n",
    "\n",
    "def myreduce(function, list1, result = None):\n",
    "        try:\n",
    "            l = iter(list1)\n",
    "            result = next(l)\n",
    "            for x in l:\n",
    "                result = function(result, x)\n",
    "            return result\n",
    "        except Exception as e:\n",
    "            print('Error:', e)        \n",
    "def do_sum(x1, x2): return x1 + x2\n",
    "\n",
    "myreduce(do_sum,[1,2,3,4,5])"
   ]
  },
  {
   "cell_type": "code",
   "execution_count": 44,
   "metadata": {},
   "outputs": [
    {
     "name": "stdout",
     "output_type": "stream",
     "text": [
      "(5, 17)\n",
      "[12, 18, 24, 32]\n",
      "{'i', 'e', 'a'}\n"
     ]
    }
   ],
   "source": [
    "# 1.2. Write a Python program to implement your own myfilter() function which works exactly like Python's built-in function filter() \n",
    "\n",
    "def myfilter(function,list1):\n",
    "    result = []\n",
    "    try:\n",
    "        l = iter(list1)\n",
    "        for x in l:\n",
    "            value = function(x)\n",
    "            if value == True:\n",
    "                result.append(x) \n",
    "    except Exception as e:\n",
    "        print(e)\n",
    "    return iter(result)\n",
    "\n",
    "\n",
    "seq = [5, 12, 17, 18, 24, 32]\n",
    "alphabets = ['f','a','t','e','p','i']\n",
    "\n",
    "def odd(x):\n",
    "    if x % 2 == 0:\n",
    "        return False\n",
    "    else:\n",
    "        return True\n",
    "def even(x):\n",
    "    if x % 2 == 0:\n",
    "        return True\n",
    "    else:\n",
    "        return False\n",
    "def vowel(alpha):\n",
    "    vowels = ['a','e','i','o','u']\n",
    "    for i in alpha:\n",
    "        if i in vowels:\n",
    "            return True\n",
    "        else:\n",
    "            return False\n",
    "\n",
    "print(tuple(myfilter(odd, seq)))\n",
    "print(list(myfilter(even, seq)))\n",
    "print(set(myfilter(vowel,alphabets)))"
   ]
  },
  {
   "cell_type": "code",
   "execution_count": 57,
   "metadata": {},
   "outputs": [
    {
     "name": "stdout",
     "output_type": "stream",
     "text": [
      "['A', 'C', 'A', 'D', 'G', 'I', 'L', 'D']\n",
      "['x', 'xx', 'xxx', 'xxxx', 'y', 'yy', 'yyy', 'yyyy', 'z', 'zz', 'zzz', 'zzzz']\n",
      "['x', 'y', 'z', 'xx', 'yy', 'zz', 'xxx', 'yyy', 'zzz', 'xxxx', 'yyyy', 'zzzz']\n",
      "[[2], [3], [4], [3], [4], [5], [4], [5], [6]] [[2, 3, 4, 5], [3, 4, 5, 6], [4, 5, 6, 7], [5, 6, 7, 8]]\n",
      "[(1, 1), (2, 1), (3, 1), (1, 2), (2, 2), (3, 2), (1, 3), (2, 3), (3, 3)]\n"
     ]
    }
   ],
   "source": [
    "# 2. Write List comprehensions to produce the following Lists. \n",
    "# ['A', 'C', 'A', 'D', 'G', 'I', ’L’, ‘ D’] \n",
    "#['x', 'xx', 'xxx', 'xxxx', 'y', 'yy', 'yyy', 'yyyy', 'z', 'zz', 'zzz', 'zzzz']\n",
    "#['x', 'y', 'z', 'xx', 'yy', 'zz', 'xxx', 'yyy', 'zzz', 'xxxx', 'yyyy', 'zzzz'] \n",
    "#[[2], [3], [4], [3], [4], [5], [4], [5], [6]] [[2, 3, 4, 5], [3, 4, 5, 6], [4, 5, 6, 7], [5, 6, 7, 8]] \n",
    "#[(1, 1), (2, 1), (3, 1), (1, 2), (2, 2), (3, 2), (1, 3), (2, 3), (3, 3)] \n",
    "\n",
    "# new_list = [expression(i) for i in old_list if filter(i)]\n",
    "String1 = 'ACADGILD'\n",
    "String2 = 'xyz'\n",
    "New_List1 = [String1[a] for a in range(len(String1))]\n",
    "New_List2 = [String2[a]*i for a in range(len(String2)) for i in range(5) if i >0]\n",
    "New_List3 = [String2[a]*i for i in range(5) if i > 0 for a in range(len(String2))]\n",
    "New_List4 = [[i + j]  for i in range(4) if i >0 for j in range(4) if j>0]\n",
    "New_List5 = [[i,i+1,i+2,i+3] for i in range(6) if i>=2 ]\n",
    "New_List6 = [(j,i) for i in range(4) if i>0 for j in range(4) if j>0]\n",
    "print(New_List1)\n",
    "print(New_List2)\n",
    "print(New_List3)\n",
    "print(New_List4 , New_List5)\n",
    "print(New_List6) "
   ]
  },
  {
   "cell_type": "code",
   "execution_count": 3,
   "metadata": {},
   "outputs": [
    {
     "name": "stdout",
     "output_type": "stream",
     "text": [
      "Enter words by comma:test,this,program,for,longest,words\n",
      "Longest Word(s): program,longest\n"
     ]
    }
   ],
   "source": [
    "# 3. Implement a function longestWord() that takes a list of words and returns the longest one. \n",
    "\n",
    "def longestword(words):\n",
    "    length = 0\n",
    "    for i in words:\n",
    "        if length < len(i):\n",
    "            length = len(i)\n",
    "            longest_word = i\n",
    "        else:\n",
    "            if length == len(i):\n",
    "                longest_word += ',' + i\n",
    "    return longest_word\n",
    "            \n",
    "Wordlist = input(\"Enter words by comma:\")\n",
    "Wordlist = Wordlist.split(',')\n",
    "print(\"Longest Word(s):\", longestword(Wordlist))\n",
    "\n",
    "\n",
    "    "
   ]
  },
  {
   "cell_type": "markdown",
   "metadata": {},
   "source": [
    "# 2.4. Problem Statement:  PYTHON 4 "
   ]
  },
  {
   "cell_type": "code",
   "execution_count": 29,
   "metadata": {},
   "outputs": [
    {
     "name": "stdout",
     "output_type": "stream",
     "text": [
      "side a:3\n",
      "side b:4\n",
      "side c:5\n",
      "Area of the Triangle with sides 3.0 , 4.0 , 5.0 is: 6.0\n"
     ]
    }
   ],
   "source": [
    "#1.1  Python Program(with class concepts) to find the area of the triangle using the below formula. \n",
    "#  area = (s*(s-a)*(s-b)*(s-c)) ** 0.5 \n",
    "#  Function to take the length of the sides of triangle from user should be defined in the parent class and function to calculate the area should be defined in subclass. \n",
    "\n",
    "class Figure:\n",
    "    def __init__(self):\n",
    "        a = float(input(\"side a:\"))\n",
    "        b = float(input(\"side b:\"))\n",
    "        c = float(input(\"side c:\"))\n",
    "        self.a = a\n",
    "        self.b = b\n",
    "        self.c = c\n",
    "\n",
    "class Triangle(Figure):\n",
    "    def __init__(self):\n",
    "        Figure.__init__(self)\n",
    "    def area(self):\n",
    "        s = (self.a + self.b + self.c)/2\n",
    "        area = (s * (s-self.a) * (s-self.b) * (s-self.c)) ** 0.5\n",
    "        return area\n",
    "        \n",
    "\n",
    "T1 = Triangle()\n",
    "print(\"Area of the Triangle with sides\", T1.a, \",\" ,T1.b, \",\" , T1.c , \"is:\", T1.area())   \n",
    "        \n",
    "        \n"
   ]
  },
  {
   "cell_type": "code",
   "execution_count": 10,
   "metadata": {},
   "outputs": [
    {
     "name": "stdout",
     "output_type": "stream",
     "text": [
      "Enter words by comma:test,the,program,now,for,new,input\n",
      "Enter length:3\n",
      "['test', 'program', 'input']\n"
     ]
    }
   ],
   "source": [
    "# 1.2 Write a function filter_long_words() that takes a list of words and an integer n and returns the list of words \n",
    "# that are longer than n. \n",
    "\n",
    "def filter_long_words(words,n):\n",
    "    result = [i for i in words if len(i)>n]\n",
    "    return result\n",
    "             \n",
    "\n",
    "s = input(\"Enter words by comma:\")\n",
    "s= s.split(',')\n",
    "n = int(input(\"Enter length:\"))\n",
    "print(filter_long_words(s,n))\n",
    "            \n",
    "    \n",
    "    \n"
   ]
  },
  {
   "cell_type": "code",
   "execution_count": 52,
   "metadata": {},
   "outputs": [
    {
     "name": "stdout",
     "output_type": "stream",
     "text": [
      "Enter words by comma:ab,cde,erty\n",
      "[2, 3, 4]\n"
     ]
    }
   ],
   "source": [
    "# 2.1 Write a Python program using function concept that maps list of words into a list of integers representing the lengths of the corresponding words. \n",
    "# Hint: If a list [ ab,cde,erty] is passed on to the python function output should come as [2,3,4] \n",
    "# Here 2,3 and 4 are the lengths of the words in the list. \n",
    "\n",
    "def length(word):\n",
    "    return(len(word))\n",
    "\n",
    "Words = input(\"Enter words by comma:\")\n",
    "Words = Words.split(',')\n",
    "print(list(map(length,Words)))\n",
    "\n",
    "\n"
   ]
  },
  {
   "cell_type": "code",
   "execution_count": 37,
   "metadata": {},
   "outputs": [
    {
     "name": "stdout",
     "output_type": "stream",
     "text": [
      "Enter character:b\n",
      "False\n"
     ]
    }
   ],
   "source": [
    "# 2.2 Write a Python function which takes a character (i.e. a string of length 1) \n",
    "# and returns True if it is a vowel, False otherwise.\n",
    "def vowel(alpha):\n",
    "    vowels = ['a','e','i','o','u']\n",
    "    if alpha in vowels:\n",
    "        return True\n",
    "    else:\n",
    "        return False\n",
    "\n",
    "char = input(\"Enter character:\")\n",
    "print(vowel(char))\n"
   ]
  },
  {
   "cell_type": "markdown",
   "metadata": {},
   "source": [
    "# Python 5"
   ]
  },
  {
   "cell_type": "code",
   "execution_count": 26,
   "metadata": {},
   "outputs": [
    {
     "name": "stdout",
     "output_type": "stream",
     "text": [
      "Error: division by zero\n",
      "None\n"
     ]
    }
   ],
   "source": [
    "# 1. Function to compute 5/0 and use try/except to catch the exceptions. \n",
    "\n",
    "def division(a,b):\n",
    "    result = None\n",
    "    try:\n",
    "        result = a/b\n",
    "    except Exception as e:\n",
    "        print(\"Error:\",e)\n",
    "    return result\n",
    "\n",
    "a = 5\n",
    "b = 0\n",
    "print(division(a,b))"
   ]
  },
  {
   "cell_type": "code",
   "execution_count": 11,
   "metadata": {},
   "outputs": [
    {
     "name": "stdout",
     "output_type": "stream",
     "text": [
      "Input Subjects by comma: Americans, Indians\n",
      "Input Objects by comma: Baseball,Cricket\n",
      "Input Verbs by comma: play,watch\n",
      "Americans play Baseball\n",
      "Americans play Cricket\n",
      "Americans watch Baseball\n",
      "Americans watch Cricket\n",
      "Indians play Baseball\n",
      "Indians play Cricket\n",
      "Indians watch Baseball\n",
      "Indians watch Cricket\n"
     ]
    }
   ],
   "source": [
    "# 2.  Implement a Python program to generate all sentences where subject is in [\"Americans\", \"Indians\"] \n",
    "# and verb is in [\"Play\", \"watch\"] and the object is in [\"Baseball\",\"cricket\"].\n",
    "\n",
    "Subject = input(\"Input Subjects by comma: \")\n",
    "Object = input(\"Input Objects by comma: \")\n",
    "Verb = input(\"Input Verbs by comma: \")\n",
    "Subject = Subject.split(',')\n",
    "Object = Object.split(',')\n",
    "Verb = Verb.split(',')\n",
    "for i in Subject:\n",
    "    for j in Verb:\n",
    "        for k in Object:\n",
    "              print(i.strip(' '),j.strip(' '),k.strip(' '))\n",
    "                \n"
   ]
  },
  {
   "cell_type": "code",
   "execution_count": null,
   "metadata": {},
   "outputs": [],
   "source": []
  }
 ],
 "metadata": {
  "kernelspec": {
   "display_name": "Python 3",
   "language": "python",
   "name": "python3"
  },
  "language_info": {
   "codemirror_mode": {
    "name": "ipython",
    "version": 3
   },
   "file_extension": ".py",
   "mimetype": "text/x-python",
   "name": "python",
   "nbconvert_exporter": "python",
   "pygments_lexer": "ipython3",
   "version": "3.7.3"
  }
 },
 "nbformat": 4,
 "nbformat_minor": 2
}
